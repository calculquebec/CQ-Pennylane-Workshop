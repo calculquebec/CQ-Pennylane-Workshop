{
 "cells": [
  {
   "cell_type": "markdown",
   "id": "e79a9444-729c-459a-bd6e-52876cdac063",
   "metadata": {
    "tags": []
   },
   "source": [
    "# References"
   ]
  },
  {
   "cell_type": "markdown",
   "id": "99251c48-50ab-4479-84bc-9753ced36348",
   "metadata": {},
   "source": [
    "## Pennylane"
   ]
  },
  {
   "cell_type": "markdown",
   "id": "92d17806-c84e-4bd9-a496-582e37c1cdeb",
   "metadata": {},
   "source": [
    "- https://github.com/PennyLaneAI/pennylane \n",
    "- https://xanadu.ai \n",
    "- https://codebook.xanadu.ai\n",
    "- https://docs.pennylane.ai/en/stable/"
   ]
  },
  {
   "cell_type": "markdown",
   "id": "dca54a6c-1841-4f54-9278-08064e0e069e",
   "metadata": {
    "tags": []
   },
   "source": [
    "## Exercises\n",
    "- https://www.qmunity.tech/tutorials/an-introduction-to-pennylane \n",
    "- https://pennylane.ai/qml/demos/tutorial_phase_kickback/\n",
    "- https://github.com/maxwell04-wq/simulated-annealing-pennylane/blob/main/Simulated_Annealing_Tutorial_Pennylane.ipynb\n",
    "- https://github.com/maxwell04-wq/simulated-annealing-pennylane/blob/main/Simulated_Annealing_Tutorial_Pennylane.ipynb"
   ]
  },
  {
   "cell_type": "markdown",
   "id": "e0d76510-4779-45d8-a8cb-f0ad011a2829",
   "metadata": {},
   "source": [
    "## Sondage post-formation"
   ]
  },
  {
   "cell_type": "markdown",
   "id": "b25fc0a9-e855-4366-b682-97165d4f1873",
   "metadata": {},
   "source": [
    "- https://docs.google.com/forms/d/e/1FAIpQLSfZKsVoD_KhNalkFf1ZTFpuS9w_F2sueldvzSFydTSA16LVpQ/viewform?usp=pp_url&entry.1622276511=Formation+Ecole+Quantique&entry.585713372=2024-06-11"
   ]
  },
  {
   "cell_type": "code",
   "execution_count": null,
   "id": "2a85988a-34d5-4d28-b5fa-fe49d35efb39",
   "metadata": {},
   "outputs": [],
   "source": []
  }
 ],
 "metadata": {
  "kernelspec": {
   "display_name": "Python 3 (ipykernel)",
   "language": "python",
   "name": "python3"
  },
  "language_info": {
   "codemirror_mode": {
    "name": "ipython",
    "version": 3
   },
   "file_extension": ".py",
   "mimetype": "text/x-python",
   "name": "python",
   "nbconvert_exporter": "python",
   "pygments_lexer": "ipython3",
   "version": "3.10.9"
  }
 },
 "nbformat": 4,
 "nbformat_minor": 5
}
