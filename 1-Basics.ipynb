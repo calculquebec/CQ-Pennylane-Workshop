{
 "cells": [
  {
   "cell_type": "markdown",
   "id": "0f5cce31-f168-428c-a5df-5ccd4cbf8923",
   "metadata": {},
   "source": [
    "# Pennylane installation"
   ]
  },
  {
   "cell_type": "code",
   "execution_count": null,
   "id": "fc94bc9d-cfa1-44ba-841c-5bd9bed39677",
   "metadata": {
    "tags": []
   },
   "outputs": [],
   "source": [
    "pip install pennylane --upgrade"
   ]
  },
  {
   "cell_type": "markdown",
   "id": "4c9883ae-ba81-4205-8ed6-6338018d2fa9",
   "metadata": {
    "tags": []
   },
   "source": [
    "# Quantum Circuits"
   ]
  },
  {
   "cell_type": "markdown",
   "id": "efaa5a98-862e-492d-bab3-bf142592b34f",
   "metadata": {},
   "source": [
    "- Instead of the qubit, PennyLane uses the term wires to refer to a quantum subsystem. \n",
    "- A circuit is represented as a function. By default all qubits are initialized as |0>.\n",
    "- The quantum function returns either a single or a tuple of measured observable values by applying a **measurement function**, which in the function below is the **PauliZ operator** to the qubit 1"
   ]
  },
  {
   "cell_type": "code",
   "execution_count": 2,
   "id": "bad6199f-0433-4b72-a770-c3f5e043743e",
   "metadata": {
    "tags": []
   },
   "outputs": [],
   "source": [
    "import pennylane as qml\n",
    "\n",
    "def quantum_function(x, y):\n",
    "    qml.RZ(x, wires=0)\n",
    "    qml.CNOT(wires=[0,1])\n",
    "    qml.RY(y, wires=1)\n",
    "    return qml.expval(qml.PauliZ(1))"
   ]
  },
  {
   "cell_type": "markdown",
   "id": "8022bb33-67d3-4967-a8c7-189c119c4213",
   "metadata": {
    "tags": []
   },
   "source": [
    "To run and optimize a quantum circuit, we need to specify the quantum device on which to execute the circuit. Here we use the ”default.qubit” device, which is a standard quantum simulator. It is instantiated using the device loader as follows"
   ]
  },
  {
   "cell_type": "code",
   "execution_count": 5,
   "id": "a4c57b90-61f7-41bf-a10f-2646f8ad9e6f",
   "metadata": {
    "tags": []
   },
   "outputs": [],
   "source": [
    "dev = qml.device('default.qubit', wires=2, shots=1000)"
   ]
  },
  {
   "cell_type": "markdown",
   "id": "75a1cd00-a556-43d7-9626-4ee5c6dda592",
   "metadata": {
    "tags": []
   },
   "source": [
    "## Creating a quantum node"
   ]
  },
  {
   "cell_type": "markdown",
   "id": "ca8ab18c-ec8b-471a-9996-c58b7cd22bf4",
   "metadata": {},
   "source": [
    "Quantum computations are represented as quantum node objects in PennyLane. A quantum node is an initialization of the quantum circuit, and encapsulates the computation to the specific quantum device that executes the circuit. Quantum nodes can be easily created by using the qnode decorator.\n",
    "\n",
    "<p style=\"text-align: center\"><img src=\"images/Qnode.png\" width=\"200\" height=\"100\"></p>\n",
    "\n",
    "QNodes can interact with machine learning libraries such as PyTorch and TensorFlow. This is what allows it to connect the quantum circuit to data structures like TensorFlow tensors and optimizers. By default, QNodes use the NumPy interface.\n",
    "\n",
    "A QNode is initialized as follows:"
   ]
  },
  {
   "cell_type": "code",
   "execution_count": 7,
   "id": "31a2ad11-7466-4f50-a882-1c28f8a94caf",
   "metadata": {
    "tags": []
   },
   "outputs": [],
   "source": [
    "circuit = qml.QNode(quantum_function, dev)\n",
    "\n",
    "##Qnode can also be used as a decorator:\n",
    "#@qml.qnode(dev)"
   ]
  },
  {
   "cell_type": "markdown",
   "id": "a3fa6b8c-9c48-4a81-9870-d654243eb026",
   "metadata": {},
   "source": [
    "The QNode is used to compute the result of a quantum circuit and can calculate results classically. For example, we will run the results of the quantum_function by creating a QNode circuit and passing the parameters x and y in the function quantum_function. Then an RZ gate, CNOT and RY will be applied on the circuit."
   ]
  },
  {
   "cell_type": "code",
   "execution_count": 10,
   "id": "88c68024-db40-49ba-81cd-3c916633c763",
   "metadata": {
    "tags": []
   },
   "outputs": [
    {
     "name": "stdout",
     "output_type": "stream",
     "text": [
      "(<Figure size 600x300 with 1 Axes>, <Axes: >)\n"
     ]
    },
    {
     "data": {
      "image/png": "[encoded data removed]",
      "text/plain": [
       "<Figure size 600x300 with 1 Axes>"
      ]
     },
     "metadata": {},
     "output_type": "display_data"
    }
   ],
   "source": [
    "import numpy as np\n",
    "result = qml.draw_mpl(circuit)(np.pi/3, 0.5)\n",
    "print(result)"
   ]
  }
 ],
 "metadata": {
  "kernelspec": {
   "display_name": "Python 3 (ipykernel)",
   "language": "python",
   "name": "python3"
  },
  "language_info": {
   "codemirror_mode": {
    "name": "ipython",
    "version": 3
   },
   "file_extension": ".py",
   "mimetype": "text/x-python",
   "name": "python",
   "nbconvert_exporter": "python",
   "pygments_lexer": "ipython3",
   "version": "3.10.9"
  }
 },
 "nbformat": 4,
 "nbformat_minor": 5
}
