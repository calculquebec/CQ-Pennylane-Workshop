{
 "cells": [
  {
   "cell_type": "markdown",
   "id": "aab0f4b7-1321-46a6-bda6-f80ab787a1cc",
   "metadata": {
    "tags": []
   },
   "source": [
    "# Building a quantum lock using phase kickback"
   ]
  },
  {
   "cell_type": "markdown",
   "id": "51fd3e89-397e-4a56-a786-de111feb1f56",
   "metadata": {},
   "source": [
    "## Review of phase kickback"
   ]
  },
  {
   "cell_type": "markdown",
   "id": "dd9ee70e-3768-4b4e-ad80-f94b6365fb02",
   "metadata": {},
   "source": [
    "Phase kickback is a powerful quantum phenomenon that uses entanglement properties to allow for the transfer of phase information from a target register to a control qubit. It plays a vital role in the design of many quantum algorithms.\n",
    "\n",
    "In a phase kickback circuit, an ancilla qubit is prepared in a superposition state using a Hadamard gate and it acts as a control qubit for a controlled unitary gate applied to the target register. When the target register is in an eigenstate of the unitary gate, the corresponding eigenvalue’s phase is “kicked back” to the control qubit. A subsequent Hadamard gate on the ancilla qubit enables the extraction of the phase information through measurement."
   ]
  },
  {
   "cell_type": "markdown",
   "id": "154d2014-0e99-43ec-8983-cadfba1eff87",
   "metadata": {},
   "source": [
    "<p style=\"text-align: center\"><img src=\"images/PhaseKickback.png\" width=\"200\" height=\"100\"></p>"
   ]
  },
  {
   "cell_type": "markdown",
   "id": "b7d16c50-799d-4f58-86b0-054ba3c93852",
   "metadata": {},
   "source": [
    "## Building the quantum lock"
   ]
  },
  {
   "cell_type": "markdown",
   "id": "13a0ef91-21ee-4938-836c-d14dae104ffa",
   "metadata": {},
   "source": [
    " The quantum lock is represented by a unitary $U$, which has all but one eigenvalue equal to 1. Our one “key” eigenstate has eigenvalue -1: "
   ]
  },
  {
   "cell_type": "markdown",
   "id": "083b9464-d9a9-40e0-b0ff-89d8793999d8",
   "metadata": {
    "tags": []
   },
   "source": [
    "<p style=\"text-align: center\">$U\\ket{key} = -\\ket{key}$</p>"
   ]
  },
  {
   "cell_type": "markdown",
   "id": "3167eec3-78a2-45b2-bc53-b2181f1f2264",
   "metadata": {
    "tags": []
   },
   "source": [
    "When the correct eigenstate is input, the -1 phase imparted by $U$ is kicked back to the ancilla, effectively changing its state from $\\ket{+}$ to $\\ket{-}$. Then the outcome of the measurement on the control qubit tells us whether the correct eigenstate was inputted or not. In this case, $\\ket{1} = H\\ket{-}$ represents unlocking the lock, and $\\ket{0} = H\\ket{+}$ represents failure. To make things simple, here we’ll work with a lock-in computational basis. In this setting, the key corresponds to a binary encoded integer $m$, which will be our key eigenstate:"
   ]
  },
  {
   "cell_type": "markdown",
   "id": "531b5517-5543-4362-bd63-3c3c30b831e0",
   "metadata": {},
   "source": [
    "<p style=\"text-align: center\">\n",
    "    $\\begin{split}U|n\\rangle =\n",
    "      \\begin{cases}\n",
    "      -|n\\rangle, & \\text{if } n=m \\\\\n",
    "      |n\\rangle, & \\text{if } n\\neq m\n",
    "      \\end{cases}\\end{split}$\n",
    "<\\p>"
   ]
  },
  {
   "cell_type": "markdown",
   "id": "10ed7b82-45cb-44ad-a32e-1608b561874d",
   "metadata": {},
   "source": [
    "## Opening the quantum lock"
   ]
  },
  {
   "cell_type": "markdown",
   "id": "b53370e2-4753-4c9e-a03a-457a99f284d8",
   "metadata": {},
   "source": [
    "To open the quantum lock, the correct input state or “quantum key” is needed. Let’s see how the quantum system evolves when the right key is inputted.\n",
    "\n",
    "A Hadamard gate is first applied to the control qubit:"
   ]
  },
  {
   "cell_type": "markdown",
   "id": "21532226-088d-42a9-979a-719f35464d91",
   "metadata": {},
   "source": [
    "<p style=\"text-align: center\">\n",
    "    $\\frac{|0\\rangle|\\text{key}\\rangle + |1\\rangle|\\text{key}\\rangle}{\\sqrt{2}}$\n",
    "</p>"
   ]
  },
  {
   "cell_type": "markdown",
   "id": "656e8a5c-79f9-4dbc-a34f-5edfe650c9ec",
   "metadata": {},
   "source": [
    "Then, the controlled unitary gate is applied:"
   ]
  },
  {
   "cell_type": "markdown",
   "id": "34d4f4f6-e4d2-45ec-a21b-77bc18e0612f",
   "metadata": {},
   "source": [
    "<p style=\"text-align: center\">\n",
    "    $\\frac{|0\\rangle|\\text{key}\\rangle - |1\\rangle|\\text{key}\\rangle}{\\sqrt{2}} = |-\\rangle|\\text{key}\\rangle$\n",
    "</p>"
   ]
  },
  {
   "cell_type": "markdown",
   "id": "2c08993f-4f11-40f4-bb1e-66e45ea400d1",
   "metadata": {},
   "source": [
    "Finally, a Hadamard gate is applied again to the control qubit:"
   ]
  },
  {
   "cell_type": "markdown",
   "id": "9052eb6d-71d9-4549-9e0a-1dd3acfb158b",
   "metadata": {
    "tags": []
   },
   "source": [
    "<p style=\"text-align: center\">\n",
    "    $|1\\rangle|\\text{key}\\rangle$\n",
    "</p>"
   ]
  },
  {
   "cell_type": "markdown",
   "id": "bf1580a2-1644-4f03-8ca1-e9c07c7427ec",
   "metadata": {},
   "source": [
    "## Instructions to create the quantum lock"
   ]
  },
  {
   "cell_type": "markdown",
   "id": "eebc9f66-a31a-438d-88aa-4e171f4fc96d",
   "metadata": {},
   "source": [
    "1. Import the necessary libraries and create a device to run our quantum circuits.\n",
    "2. Use 5 qubits with qubit [0] as the control ancilla qubit, and qubits [1,2,3,4] as the target qubits where $\\ket{\\psi}$ will be encoded.\n",
    "3. Create a function using [Flipsign](https://docs.pennylane.ai/en/stable/code/api/pennylane.FlipSign.html) to build the lock.\n",
    "4. Prepare the corresponding eigenstate for a key we want to try out. Remember, the lock is only unlocked by the “key” eigenstate with eigenvalue -1. Make use of [BasisState](https://docs.pennylane.ai/en/stable/code/api/pennylane.BasisState.html) to build the key.\n",
    "5. Create the circuit with Hadamard and control (qml.ctrl) gates.\n",
    "6. Create an output function with different messages if the key is locked (state 1) or unlocked.\n",
    "7. Finally, test your code with different input arrays."
   ]
  },
  {
   "cell_type": "code",
   "execution_count": 9,
   "id": "5f98ba5e-1068-4768-a663-640490e1b243",
   "metadata": {
    "tags": []
   },
   "outputs": [
    {
     "name": "stdout",
     "output_type": "stream",
     "text": [
      "Great job, you uncovered the right key!\n",
      "Nice try, but that's not the right key!\n"
     ]
    }
   ],
   "source": [
    "import pennylane as qml\n",
    "import numpy as np\n",
    "\n",
    "num_wires = 5\n",
    "dev = qml.device(\"default.qubit\", wires=num_wires, shots=1)\n",
    "\n",
    "def quantum_lock(secret_key):\n",
    "    return qml.FlipSign(secret_key, wires=list(range(1, num_wires)))\n",
    "\n",
    "def build_key(key):\n",
    "    return qml.BasisState(key, wires=list(range(1, num_wires)))\n",
    "\n",
    "@qml.qnode(dev)\n",
    "def quantum_locking_mechanism(lock, key):\n",
    "    build_key(key)\n",
    "    qml.Hadamard(wires=0)  # Hadamard on ancilla qubit\n",
    "    qml.ctrl(lock, control=0)  # Controlled unitary operation\n",
    "    qml.Hadamard(wires=0)  # Hadamard again on ancilla qubit\n",
    "    return qml.sample(wires=0)\n",
    "\n",
    "\n",
    "def check_key(lock, key):\n",
    "    if quantum_locking_mechanism(lock, key) == 1:\n",
    "        print(\"Great job, you uncovered the right key!\")\n",
    "    else:\n",
    "        print(\"Nice try, but that's not the right key!\")\n",
    "        \n",
    "secret_key = np.array([0, 1, 1, 1])\n",
    "lock = quantum_lock(secret_key)\n",
    "check_key(lock, secret_key)\n",
    "\n",
    "incorrect_key = np.array([1, 1, 1, 1])\n",
    "check_key(lock, incorrect_key)"
   ]
  },
  {
   "cell_type": "code",
   "execution_count": null,
   "id": "e837536a-793a-4253-925a-37f78d8e544f",
   "metadata": {},
   "outputs": [],
   "source": []
  }
 ],
 "metadata": {
  "kernelspec": {
   "display_name": "Python 3 (ipykernel)",
   "language": "python",
   "name": "python3"
  },
  "language_info": {
   "codemirror_mode": {
    "name": "ipython",
    "version": 3
   },
   "file_extension": ".py",
   "mimetype": "text/x-python",
   "name": "python",
   "nbconvert_exporter": "python",
   "pygments_lexer": "ipython3",
   "version": "3.10.9"
  }
 },
 "nbformat": 4,
 "nbformat_minor": 5
}
