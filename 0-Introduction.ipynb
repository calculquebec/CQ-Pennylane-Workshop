{
 "cells": [
  {
   "cell_type": "markdown",
   "id": "eee9b193-5560-4904-9e7a-e4bd1a03f42e",
   "metadata": {},
   "source": [
    "# What is Pennylane?"
   ]
  },
  {
   "cell_type": "markdown",
   "id": "b1c9afc3-1bab-4b6b-b277-07c0b9108b8a",
   "metadata": {},
   "source": [
    "The PennyLane Framework, developed by [Xanadu](https://xanadu.ai), is an open source software development kit specifically designed for differentiable programming of quantum computers.\n",
    "> Differentiable programming is a programming paradigm in which a numeric computer program can be differentiated throughout via automatic differentiation - a set of techniques to evaluate the partial derivative of a function. This allows for gradient-based optimization of parameters in the program, often via gradient descent, as well as other learning approaches that are based on higher order derivative information. Differentiable programming has found use in a wide variety of areas, particularly scientific computing and machine learning. (https://en.wikipedia.org/wiki/Differentiable_programming)"
   ]
  },
  {
   "cell_type": "markdown",
   "id": "a5899079-292b-427c-9797-34c6a8771f12",
   "metadata": {},
   "source": [
    "## Key features\n",
    "- **Machine learning on quantum hardware**. Connect to quantum hardware using PyTorch, TensorFlow, JAX, Keras, or NumPy. Build rich and flexible hybrid quantum-classical models.\n",
    "\n",
    "- **Just in time compilation**. Compile entire hybrid workflows, with support for advanced features such as adaptive circuits, real-time measurement feedback, and unbounded loops (loops that iterate based on a previous numeric response with no maximum configured value). \n",
    "\n",
    "- **Device-independent**. Run the same quantum circuit on different quantum backends. Install plugins to access even more devices, including Snowflurry (MonarQ), Strawberry Fields, Amazon Braket, IBM Q, Google Cirq, Rigetti Forest, Qulacs, Pasqal, Honeywell, and more.\n",
    "\n",
    "- Built-in tools for **quantum machine learning**, **optimization**, and **quantum chemistry**. Rapidly prototype using built-in quantum simulators with support for backpropagation - a gradient estimation method used to train neural network models."
   ]
  },
  {
   "cell_type": "markdown",
   "id": "3895b193-b117-441a-8ee2-8fe2bc90f8ce",
   "metadata": {},
   "source": [
    "# Workshop outline\n",
    "### 1. Pennylane basics\n",
    "### 2. Exercise: building a quantum lock using phase kickback\n",
    "### 3. Challenge: using simulated annealing to optimize a variational quantum circuit"
   ]
  },
  {
   "cell_type": "code",
   "execution_count": null,
   "id": "e8e7719f-bb4d-4a26-a6db-23b41de9e554",
   "metadata": {},
   "outputs": [],
   "source": []
  }
 ],
 "metadata": {
  "kernelspec": {
   "display_name": "Python 3 (ipykernel)",
   "language": "python",
   "name": "python3"
  },
  "language_info": {
   "codemirror_mode": {
    "name": "ipython",
    "version": 3
   },
   "file_extension": ".py",
   "mimetype": "text/x-python",
   "name": "python",
   "nbconvert_exporter": "python",
   "pygments_lexer": "ipython3",
   "version": "3.10.9"
  }
 },
 "nbformat": 4,
 "nbformat_minor": 5
}
